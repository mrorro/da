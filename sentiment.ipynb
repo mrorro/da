{
 "cells": [
  {
   "cell_type": "code",
   "execution_count": 6,
   "id": "22745295-81aa-4a71-80c9-0546ab4608d1",
   "metadata": {},
   "outputs": [],
   "source": [
    "from transformers import pipeline"
   ]
  },
  {
   "cell_type": "code",
   "execution_count": 7,
   "id": "3cedeb99-90ad-422e-9cfc-282f93a4af24",
   "metadata": {},
   "outputs": [],
   "source": [
    "sentence = [\n",
    "        \"Buongiorno, vi segnalo lo stato di degrado nel quale versano le scale di accesso di via fischi \\\n",
    "         al palazzo di accesso del consiglio regionale, materiale abbandonato, una bici abbandonata e \\\n",
    "         scalini rovinati. Grazie per il ripristino dei gradini per salvaguardare l'incolumità dei pedoni. \\\n",
    "         Saluti. Bruno\",\n",
    "         \"Buongiorno, vi segnalo lo stato di degrado nel quale versano le scale di accesso di via fischi \\\n",
    "         al palazzo di accesso del consiglio regionale, materiale abbandonato, una bici abbandonata e \\\n",
    "         scalini rovinati.\",\n",
    "         \"Grazie per il ripristino dei gradini per salvaguardare l'incolumità dei pedoni. Saluti. Bruno\",\n",
    "           ]"
   ]
  },
  {
   "cell_type": "code",
   "execution_count": 8,
   "id": "f1904d17-fd24-4484-a2d2-beb75d32bf43",
   "metadata": {},
   "outputs": [],
   "source": [
    "classifier = pipeline(\"sentiment-analysis\", model=\"neuraly/bert-base-italian-cased-sentiment\",return_all_scores=True)\n",
    "output = classifier(sentence)"
   ]
  },
  {
   "cell_type": "code",
   "execution_count": 9,
   "id": "b45e866f-874a-4624-9065-e03814c54384",
   "metadata": {},
   "outputs": [
    {
     "name": "stdout",
     "output_type": "stream",
     "text": [
      "Probabilities: {'negative': 0.4748261272907257, 'neutral': 0.34899038076400757, 'positive': 0.1761835366487503}\n",
      "Probabilities: {'negative': 0.9871581196784973, 'neutral': 0.012191135436296463, 'positive': 0.0006508079823106527}\n",
      "Probabilities: {'negative': 0.00014115356316324323, 'neutral': 0.025218404829502106, 'positive': 0.9746403694152832}\n"
     ]
    }
   ],
   "source": [
    "for i in output:\n",
    "   print(\"Probabilities:\" , { i[j]['label']: i[j]['score']  for j in range(len(i)) } ) "
   ]
  },
  {
   "cell_type": "code",
   "execution_count": 10,
   "id": "da7ba6e4-873d-4d3f-b7e0-7135e938628d",
   "metadata": {},
   "outputs": [
    {
     "name": "stdout",
     "output_type": "stream",
     "text": [
      "Probabilities:  negative 0.4748261272907257\n",
      "Probabilities:  negative 0.9871581196784973\n",
      "Probabilities:  positive 0.9746403694152832\n"
     ]
    }
   ],
   "source": [
    "for i in output:\n",
    "   x = { i[j]['label']: i[j]['score']  for j in range(len(i)) } \n",
    "   m = max(x, key=x.get)\n",
    "   print(\"Probabilities: \", m, x[m])"
   ]
  }
 ],
 "metadata": {
  "kernelspec": {
   "display_name": "Python 3 (ipykernel)",
   "language": "python",
   "name": "python3"
  },
  "language_info": {
   "codemirror_mode": {
    "name": "ipython",
    "version": 3
   },
   "file_extension": ".py",
   "mimetype": "text/x-python",
   "name": "python",
   "nbconvert_exporter": "python",
   "pygments_lexer": "ipython3",
   "version": "3.9.0"
  }
 },
 "nbformat": 4,
 "nbformat_minor": 5
}
